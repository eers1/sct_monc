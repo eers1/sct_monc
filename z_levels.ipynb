{
 "cells": [
  {
   "cell_type": "code",
   "execution_count": 17,
   "metadata": {},
   "outputs": [
    {
     "name": "stdout",
     "output_type": "stream",
     "text": [
      "[-20, 0, 20, 40, 60, 80, 100, 120, 140, 160, 180, 200, 220, 240, 260, 280, 300, 320, 340, 360, 380, 400, 420, 440, 460, 480, 500, 520, 540, 550, 560, 570, 580, 590, 600, 610, 620, 630, 640, 645.5, 651.0, 656.5, 662.0, 667.5, 673.0, 678.5, 684.0, 689.5, 695.0, 700.5, 706.0, 711.5, 717.0, 722.5, 728.0, 733.5, 739.0, 744.5, 750.0, 755.5, 761.0, 766.5, 772.0, 777.5, 783.0, 788.5, 794.0, 799.5, 805.0, 810.5, 816.0, 821.5, 827.0, 832.5, 838.0, 843.5, 849.0, 854.5, 860.0, 865.5, 871.0, 876.5, 882.0, 887.5, 893.0, 898.5, 904.0, 909.5, 915.0, 920.5, 926.0, 931.5, 937.0, 942.5, 948.0, 953.5, 959.0, 964.5, 970.0, 975.5, 981.0, 986.5, 992.0, 997.5, 1003.0, 1008.5, 1014.0, 1019.5, 1025.0, 1030.5, 1036.0, 1041.5, 1047.0, 1052.5, 1058.0, 1063.5, 1069.0, 1074.5, 1080.0, 1085.5, 1091.0, 1096.5, 1102.0, 1107.5, 1113.0, 1118.5, 1124.0, 1129.5, 1135.0, 1140.5, 1146.0, 1151.5, 1157.0, 1162.5, 1168.0, 1173.5, 1179.0, 1184.5, 1190.0, 1195.5, 1201.0, 1206.5, 1212.0, 1217.5, 1223.0, 1228.5, 1234.0, 1239.5, 1245.0, 1250.5, 1256.0, 1261.5, 1267.0, 1272.5, 1278.0, 1283.5, 1289.0, 1294.5, 1300.0, 1305.5, 1311.0, 1316.5, 1322.0, 1327.5, 1333.0, 1338.5, 1344.0, 1349.5, 1355.0, 1360.5, 1366.0, 1371.5, 1377.0, 1382.5, 1388.0, 1393.5, 1399.0, 1404.5, 1410.0, 1415.5, 1421.0, 1426.5, 1432.0, 1437.5, 1443.0, 1448.5, 1454.0, 1459.5, 1465.0, 1470.5, 1476.0, 1481.5, 1487.0, 1492.5, 1498.0, 1503.5, 1509.0, 1514.5, 1520.0, 1525.5, 1531.0, 1536.5, 1542.0, 1547.5, 1553.0, 1558.5, 1564.0, 1569.5, 1575.0, 1580.5, 1586.0, 1591.5, 1597.0, 1602.5, 1608.0, 1613.5, 1619.0, 1624.5, 1630.0, 1635.5, 1641.0, 1646.5, 1652.0, 1657.5, 1663.0, 1668.5, 1674.0, 1679.5, 1685.0, 1690.5, 1696.0, 1701.5, 1707.0, 1712.5, 1718.0, 1723.5, 1729.0, 1734.5, 1740.0, 1745.5, 1751.0, 1756.5, 1762.0, 1767.5, 1773.0, 1778.5, 1784.0, 1789.5, 1795.0, 1800.5, 1811.5, 1833.5, 1877.5, 1965.5, 2065.5, 2165.5, 2265.5, 2365.5, 2465.5, 2565.5, 2665.5, 2765.5, 2865.5, 2965.5, 3065.5] [540, 640, 1800.5, 1811.5, 1833.5, 1877.5, 1965.5, 2065.5, 2165.5, 2265.5, 2365.5, 2465.5, 2565.5, 2665.5, 2765.5, 2865.5, 2965.5, 3065.5] [28, 38, 249, 250, 251, 252, 253, 254, 255, 256, 257, 258, 259, 260, 261, 262, 263, 264] 265 265\n"
     ]
    }
   ],
   "source": [
    "# mid: dz_ct=10, dz_bl=15, divider=1.095\n",
    "# mid7: dz_ct=7, dz_bl=20, divider=2   \n",
    "# mid715: dz_ct=7, dz_bl=15, divider=2   \n",
    "# mid5: dz_ct=5, dz_bl=20, divider=2  \n",
    "# max: dz_ct=5, dz_bl=15, divider=1.095\n",
    "\n",
    "kkp=320\n",
    "top=3100\n",
    "dz_ct=5.5 #7 # 10\n",
    "dz_bl=20 # 15\n",
    "zi=540\n",
    "zf=1800\n",
    "zz=0\n",
    "divider=2 #1.095\n",
    "k=0\n",
    "z_heights = []\n",
    "hgd=[]\n",
    "kgd=[]\n",
    "#kgd.append(k-1)\n",
    "while zz<zi:\n",
    "    zz=(k-1)*dz_bl\n",
    "    z_heights.append(zz)\n",
    "    k=k+1\n",
    "kgd.append(k-1)\n",
    "hgd.append(zz)\n",
    "dz=dz_bl\n",
    "\n",
    "# while dz > dz_ct+2: #0.5:\n",
    "#     dz=dz/divider\n",
    "#     zz=zz+dz\n",
    "#     z_heights.append(zz)\n",
    "#     k=k+1\n",
    "#     kgd.append(k-1)\n",
    "#     hgd.append(zz)\n",
    "    \n",
    "while zz < 640:\n",
    "    zz=zz+10 #dz_ct+2 #0.5\n",
    "    z_heights.append(zz)\n",
    "    k=k+1\n",
    "\n",
    "kgd.append(k-1)\n",
    "hgd.append(zz)\n",
    "z_heights[-1]=640\n",
    "zz=640\n",
    "\n",
    "while zz < zf:\n",
    "    zz=zz+dz_ct\n",
    "    z_heights.append(zz)\n",
    "    k=k+1\n",
    "kgd.append(k-1)\n",
    "hgd.append(zz)\n",
    "dz=dz_ct\n",
    "while zz < top-50:\n",
    "    dz=min(dz*divider, 100)\n",
    "    zz=zz+dz\n",
    "    z_heights.append(zz)\n",
    "    k=k+1\n",
    "    kgd.append(k-1)\n",
    "    hgd.append(zz)\n",
    "    \n",
    "print(z_heights, hgd, kgd, k, len(z_heights))"
   ]
  },
  {
   "cell_type": "code",
   "execution_count": 1,
   "metadata": {},
   "outputs": [],
   "source": [
    "import csv\n",
    "import re\n",
    "import numpy as np"
   ]
  },
  {
   "cell_type": "code",
   "execution_count": null,
   "metadata": {},
   "outputs": [],
   "source": []
  },
  {
   "cell_type": "code",
   "execution_count": 3,
   "metadata": {},
   "outputs": [
    {
     "data": {
      "text/plain": [
       "2.3113094444444444"
      ]
     },
     "execution_count": 3,
     "metadata": {},
     "output_type": "execute_result"
    }
   ],
   "source": [
    "8320714/(1000*60*60)"
   ]
  },
  {
   "cell_type": "code",
   "execution_count": 2,
   "metadata": {},
   "outputs": [
    {
     "name": "stdout",
     "output_type": "stream",
     "text": [
      "[['   znvi_read(1)=   10.0,vinit_read(1)=-5.67966E+00,'], ['   znvi_read(2)=  142.7,vinit_read(2)=-5.48773E+00,'], ['   znvi_read(3)=  185.7,vinit_read(3)=-5.42558E+00,'], ['   znvi_read(4)=  228.7,vinit_read(4)=-5.36343E+00,'], ['   znvi_read(5)=  271.7,vinit_read(5)=-5.30127E+00,'], ['   znvi_read(6)=  314.7,vinit_read(6)=-5.23912E+00,'], ['   znvi_read(7)=  357.7,vinit_read(7)=-5.17697E+00,'], ['   znvi_read(8)=  401.8,vinit_read(8)=-5.11320E+00,'], ['   znvi_read(9)=  445.9,vinit_read(9)=-5.04943E+00,'], ['   znvi_read(10)=  490.0,vinit_read(10)=-4.98567E+00,'], ['   znvi_read(11)=  534.2,vinit_read(11)=-4.92190E+00,'], ['   znvi_read(12)=  578.3,vinit_read(12)=-4.85813E+00,'], ['   znvi_read(13)=  623.6,vinit_read(13)=-4.79266E+00,'], ['   znvi_read(14)=  668.9,vinit_read(14)=-4.72719E+00,'], ['   znvi_read(15)=  714.2,vinit_read(15)=-4.66171E+00,'], ['   znvi_read(16)=  759.4,vinit_read(16)=-4.59624E+00,'], ['   znvi_read(17)=  804.7,vinit_read(17)=-4.53076E+00,'], ['   znvi_read(18)=  851.7,vinit_read(18)=-4.46292E+00,'], ['   znvi_read(19)=  898.6,vinit_read(19)=-4.39508E+00,'], ['   znvi_read(20)=  945.5,vinit_read(20)=-4.32723E+00,'], ['   znvi_read(21)=  992.5,vinit_read(21)=-4.25939E+00,'], ['   znvi_read(22)= 1039.4,vinit_read(22)=-4.19155E+00,'], ['   znvi_read(23)= 1087.6,vinit_read(23)=-4.12183E+00,'], ['   znvi_read(24)= 1135.9,vinit_read(24)=-4.05212E+00,'], ['   znvi_read(25)= 1184.1,vinit_read(25)=-3.98241E+00,'], ['   znvi_read(26)= 1232.3,vinit_read(26)=-3.91269E+00,'], ['   znvi_read(27)= 1280.5,vinit_read(27)=-3.84298E+00,'], ['   znvi_read(28)= 1330.2,vinit_read(28)=-3.77111E+00,'], ['   znvi_read(29)= 1380.0,vinit_read(29)=-3.69924E+00,'], ['   znvi_read(30)= 1429.7,vinit_read(30)=-3.62737E+00,'], ['   znvi_read(31)= 1479.4,vinit_read(31)=-3.55550E+00,'], ['   znvi_read(32)= 1529.1,vinit_read(32)=-3.48363E+00,'], ['   znvi_read(33)= 1580.2,vinit_read(33)=-3.40980E+00,'], ['   znvi_read(34)= 1631.3,vinit_read(34)=-3.33596E+00,'], ['   znvi_read(35)= 1682.3,vinit_read(35)=-3.26213E+00,'], ['   znvi_read(36)= 1733.4,vinit_read(36)=-3.18829E+00,'], ['   znvi_read(37)= 1784.5,vinit_read(37)=-3.11446E+00,'], ['   znvi_read(38)= 1837.1,vinit_read(38)=-3.03842E+00,'], ['   znvi_read(39)= 1889.7,vinit_read(39)=-2.96238E+00,'], ['   znvi_read(40)= 1942.3,vinit_read(40)=-2.88633E+00,'], ['   znvi_read(41)= 1994.9,vinit_read(41)=-2.81029E+00,'], ['   znvi_read(42)= 2047.5,vinit_read(42)=-2.73425E+00,'], ['   znvi_read(43)= 2101.4,vinit_read(43)=-2.65630E+00,'], ['   znvi_read(44)= 2155.4,vinit_read(44)=-2.57834E+00,'], ['   znvi_read(45)= 2209.3,vinit_read(45)=-2.50039E+00,'], ['   znvi_read(46)= 2263.2,vinit_read(46)=-2.42244E+00,'], ['   znvi_read(47)= 2317.2,vinit_read(47)=-2.34448E+00,'], ['   znvi_read(48)= 2372.5,vinit_read(48)=-2.26452E+00,'], ['   znvi_read(49)= 2427.8,vinit_read(49)=-2.18457E+00,'], ['   znvi_read(50)= 2483.1,vinit_read(50)=-2.10461E+00,'], ['   znvi_read(51)= 2538.4,vinit_read(51)=-2.02465E+00,'], ['   znvi_read(52)= 2593.7,vinit_read(52)=-1.94469E+00,'], ['   znvi_read(53)= 2651.5,vinit_read(53)=-1.86123E+00,'], ['   znvi_read(54)= 2709.2,vinit_read(54)=-1.77777E+00,'], ['   znvi_read(55)= 2766.9,vinit_read(55)=-1.69431E+00,'], ['   znvi_read(56)= 2824.7,vinit_read(56)=-1.61085E+00,'], ['   znvi_read(57)= 2882.4,vinit_read(57)=-1.52738E+00,'], ['   znvi_read(58)= 2940.1,vinit_read(58)=-1.44392E+00,'], ['   znvi_read(59)= 2997.9,vinit_read(59)=-1.36046E+00,'], ['   znvi_read(60)= 3055.6,vinit_read(60)=-1.27700E+00,'], ['   znvi_read(61)= 3113.3,vinit_read(61)=-1.19354E+00,'], ['   znvi_read(62)= 3171.1,vinit_read(62)=-1.11008E+00,']]\n"
     ]
    }
   ],
   "source": [
    "### v \n",
    "with open('v_string_input.txt', newline='') as file:\n",
    "    data = list(csv.reader(file, delimiter='\\n'))\n",
    "    \n",
    "print(data)"
   ]
  },
  {
   "cell_type": "code",
   "execution_count": 4,
   "metadata": {},
   "outputs": [
    {
     "name": "stdout",
     "output_type": "stream",
     "text": [
      "[10.0, 142.7, 185.7, 228.7, 271.7, 314.7, 357.7, 401.8, 445.9, 490.0, 534.2, 578.3, 623.6, 668.9, 714.2, 759.4, 804.7, 851.7, 898.6, 945.5, 992.5, 1039.4, 1087.6, 1135.9, 1184.1, 1232.3, 1280.5, 1330.2, 1380.0, 1429.7, 1479.4, 1529.1, 1580.2, 1631.3, 1682.3, 1733.4, 1784.5, 1837.1, 1889.7, 1942.3, 1994.9, 2047.5, 2101.4, 2155.4, 2209.3, 2263.2, 2317.2, 2372.5, 2427.8, 2483.1, 2538.4, 2593.7, 2651.5, 2709.2, 2766.9, 2824.7, 2882.4, 2940.1, 2997.9, 3055.6, 3113.3, 3171.1] [-5.67966, -5.48773, -5.42558, -5.36343, -5.30127, -5.23912, -5.17697, -5.1132, -5.04943, -4.98567, -4.9219, -4.85813, -4.79266, -4.72719, -4.66171, -4.59624, -4.53076, -4.46292, -4.39508, -4.32723, -4.25939, -4.19155, -4.12183, -4.05212, -3.98241, -3.91269, -3.84298, -3.77111, -3.69924, -3.62737, -3.5555, -3.48363, -3.4098, -3.33596, -3.26213, -3.18829, -3.11446, -3.03842, -2.96238, -2.88633, -2.81029, -2.73425, -2.6563, -2.57834, -2.50039, -2.42244, -2.34448, -2.26452, -2.18457, -2.10461, -2.02465, -1.94469, -1.86123, -1.77777, -1.69431, -1.61085, -1.52738, -1.44392, -1.36046, -1.277, -1.19354, -1.11008]\n"
     ]
    },
    {
     "data": {
      "image/png": "[encoded data removed]",
      "text/plain": [
       "<Figure size 432x288 with 1 Axes>"
      ]
     },
     "metadata": {
      "needs_background": "light"
     },
     "output_type": "display_data"
    }
   ],
   "source": [
    "p=re.compile('=\\s*([0-9]+.[0-9]+),\\S*=(-[0-9]+.[0-9]+E\\+[0-9]+)')\n",
    "\n",
    "z_list=[]\n",
    "v_list=[]\n",
    "for string in data:\n",
    "    l = p.findall(string[0])\n",
    "    z_list.append(float(l[0][0]))\n",
    "    v_list.append(float(l[0][1]))\n",
    "    \n",
    "print(z_list, v_list)\n",
    "import matplotlib.pyplot as plt\n",
    "plt.plot(v_list, z_list)\n",
    "plt.show()"
   ]
  },
  {
   "cell_type": "code",
   "execution_count": 9,
   "metadata": {},
   "outputs": [],
   "source": [
    "### theta\n",
    "with open('th_string_input.txt', newline='') as file:\n",
    "    data = list(csv.reader(file, delimiter='\\n'))"
   ]
  },
  {
   "cell_type": "code",
   "execution_count": 10,
   "metadata": {},
   "outputs": [
    {
     "name": "stdout",
     "output_type": "stream",
     "text": [
      "[10.0, 142.7, 185.7, 228.7, 271.7, 314.7, 357.7, 401.8, 445.9, 490.0, 534.2, 578.3, 623.6, 668.9, 714.2, 759.4, 804.7, 851.7, 898.6, 945.5, 992.5, 1039.4, 1087.6, 1135.9, 1184.1, 1232.3, 1280.5, 1330.2, 1380.0, 1429.7, 1479.4, 1529.1, 1580.2, 1631.3, 1682.3, 1733.4, 1784.5, 1837.1, 1889.7, 1942.3, 1994.9, 2047.5, 2101.4, 2155.4, 2209.3, 2263.2, 2317.2, 2372.5, 2427.8, 2483.1, 2538.4, 2593.7, 2651.5, 2709.2, 2766.9, 2824.7, 2882.4, 2940.1, 2997.9, 3055.6, 3113.3] [290.969, 290.969, 290.969, 290.969, 290.969, 290.969, 290.969, 290.969, 290.969, 290.969, 290.969, 290.969, 290.969, 290.969, 290.969, 290.969, 290.969, 290.969, 290.969, 302.126, 302.394, 302.661, 302.936, 303.211, 303.486, 303.761, 304.036, 304.319, 304.603, 304.886, 305.169, 305.453, 305.744, 306.035, 306.326, 306.617, 306.909, 307.208, 307.508, 307.808, 308.108, 308.408, 308.715, 309.022, 309.33, 309.637, 309.945, 310.26, 310.575, 310.89, 311.206, 311.521, 311.85, 312.179, 312.508, 312.837, 313.167, 313.496, 313.825, 314.154, 314.483] 302.74955737704914\n"
     ]
    }
   ],
   "source": [
    "p=re.compile('=\\s*([0-9]+.[0-9]+),\\S*=\\s*([-]|[0-9]+.[0-9]+E\\+[0-9]+)')\n",
    "\n",
    "z_list=[]\n",
    "v_list=[]\n",
    "for string in data:\n",
    "    l = p.findall(string[0])\n",
    "    z_list.append(float(l[0][0]))\n",
    "    v_list.append(float(l[0][1]))\n",
    "    \n",
    "print(z_list, v_list, np.mean(v_list))"
   ]
  },
  {
   "cell_type": "code",
   "execution_count": 18,
   "metadata": {},
   "outputs": [],
   "source": [
    "### qt\n",
    "with open('qt_string_input.txt', newline='') as file:\n",
    "    data = list(csv.reader(file, delimiter='\\n'))"
   ]
  },
  {
   "cell_type": "code",
   "execution_count": 23,
   "metadata": {},
   "outputs": [
    {
     "name": "stdout",
     "output_type": "stream",
     "text": [
      "[10.0, 142.7, 185.7, 228.7, 271.7, 314.7, 357.7, 401.8, 445.9, 490.0, 534.2, 578.3, 623.6, 668.9, 714.2, 759.4, 804.7, 851.7, 898.6, 945.5, 992.5, 1039.4, 1087.6, 1135.9, 1184.1, 1232.3, 1280.5, 1330.2, 1380.0, 1429.7, 1479.4, 1529.1, 1580.2, 1631.3, 1682.3, 1733.4, 1784.5, 1837.1, 1889.7, 1942.3, 1994.9, 2047.5, 2101.4, 2155.4, 2209.3, 2263.2, 2317.2, 2372.5, 2427.8, 2483.1, 2538.4, 2593.7, 2651.5, 2709.2, 2766.9, 2824.7, 2882.4, 2940.1, 2997.9, 3055.6, 3113.3] [0.0104613, 0.0104613, 0.0104613, 0.0104613, 0.0104613, 0.0104613, 0.0104613, 0.0104613, 0.0104613, 0.0104613, 0.0104613, 0.0104613, 0.0104613, 0.0104613, 0.0104613, 0.0104613, 0.0104613, 0.0104613, 0.0104613, 0.0041191, 0.00410173, 0.00408435, 0.00406649, 0.00404863, 0.00403078, 0.00401292, 0.00399506, 0.00397665, 0.00395824, 0.00393983, 0.00392142, 0.00390302, 0.0038841, 0.00386519, 0.00384628, 0.00382736, 0.00380845, 0.00378897, 0.00376949, 0.00375002, 0.00373054, 0.00371106, 0.00369109, 0.00367112, 0.00365116, 0.00363119, 0.00361122, 0.00359074, 0.00357026, 0.00354978, 0.0035293, 0.00350881, 0.00348744, 0.00346606, 0.00344468, 0.0034233, 0.00340192, 0.00338054, 0.00335916, 0.00333778, 0.00331641]\n",
      "61 61\n"
     ]
    }
   ],
   "source": [
    "p=re.compile('=\\s*([0-9]+.[0-9]+),\\S*=\\s*([0-9]+.[0-9]+E\\-[0-9]+)')\n",
    "\n",
    "z_list=[]\n",
    "v_list=[]\n",
    "for string in data:\n",
    "    l = p.findall(string[0])\n",
    "    z_list.append(float(l[0][0]))\n",
    "    v_list.append(float(l[0][1]))\n",
    "    \n",
    "print(z_list, v_list)\n",
    "print(len(z_list), len(v_list))"
   ]
  },
  {
   "cell_type": "code",
   "execution_count": 21,
   "metadata": {},
   "outputs": [
    {
     "name": "stdout",
     "output_type": "stream",
     "text": [
      "19 42\n"
     ]
    }
   ],
   "source": [
    "print(len([0.0104613, 0.0104613, 0.0104613, 0.0104613, 0.0104613, 0.0104613, 0.0104613, 0.0104613, 0.0104613, 0.0104613, 0.0104613, 0.0104613, 0.0104613, 0.0104613, 0.0104613, 0.0104613, 0.0104613, 0.0104613, 0.0104613]),len([0.0041191, 0.00410173, 0.00408435, 0.00406649, 0.00404863, 0.00403078, 0.00401292, 0.00399506, 0.00397665, 0.00395824, 0.00393983, 0.00392142, 0.00390302, 0.0038841, 0.00386519, 0.00384628, 0.00382736, 0.00380845, 0.00378897, 0.00376949, 0.00375002, 0.00373054, 0.00371106, 0.00369109, 0.00367112, 0.00365116, 0.00363119, 0.00361122, 0.00359074, 0.00357026, 0.00354978, 0.0035293, 0.00350881, 0.00348744, 0.00346606, 0.00344468, 0.0034233, 0.00340192, 0.00338054, 0.00335916, 0.00333778, 0.00331641]))"
   ]
  },
  {
   "cell_type": "code",
   "execution_count": 32,
   "metadata": {},
   "outputs": [
    {
     "name": "stdout",
     "output_type": "stream",
     "text": [
      "44 46\n"
     ]
    }
   ],
   "source": [
    "a=[10.0, 898.6, 945.5, 992.5, 1039.4, 1087.6, 1135.9, 1184.1, 1232.3, 1280.5, 1330.2, 1380.0, 1429.7, 1479.4, 1529.1, 1580.2, 1631.3, 1682.3, 1733.4, 1784.5, 1837.1, 1889.7, 1942.3, 1994.9, 2047.5, 2101.4, 2155.4, 2209.3, 2263.2, 2317.2, 2372.5, 2427.8, 2483.1, 2538.4, 2593.7, 2651.5, 2709.2, 2766.9, 2824.7, 2882.4, 2940.1, 2997.9, 3055.6, 3100.0]\n",
    "b=[290.969, 290.969, 311.969, 312.24399999999997, 312.51899999999995, 312.7939999999999, 313.0689999999999, 313.3439999999999, 313.61899999999986, 313.89399999999983, 314.1689999999998, 314.4439999999998, 314.71899999999977, 314.99399999999974, 315.2689999999997, 315.5439999999997, 315.8189999999997, 316.09399999999965, 316.36899999999963, 316.6439999999996, 316.9189999999996, 317.19399999999956, 317.46899999999954, 317.7439999999995, 318.0189999999995, 318.29399999999947, 318.56899999999945, 318.8439999999994, 319.1189999999994, 319.3939999999994, 319.66899999999936, 319.94399999999933, 320.2189999999993, 320.4939999999993, 320.76899999999927, 321.04399999999924, 321.3189999999992, 321.5939999999992, 321.8689999999992, 322.14399999999915, 322.41899999999913, 322.6939999999991, 322.9689999999991, 323.24399999999906, 323.51899999999904, 323.793999999999]\n",
    "print(len(a), len(b))"
   ]
  },
  {
   "cell_type": "code",
   "execution_count": 15,
   "metadata": {},
   "outputs": [
    {
     "name": "stdout",
     "output_type": "stream",
     "text": [
      "36\n"
     ]
    }
   ],
   "source": [
    "c=[10.0, 1300.0, 1301.0, 1380.0, 1429.7, 1479.4, 1529.1, 1580.2, 1631.3, 1682.3, 1733.4, 1784.5, 1837.1, 1889.7, 1942.3, 1994.9, 2047.5, 2101.4, 2155.4, 2209.3, 2263.2, 2317.2, 2372.5, 2427.8, 2483.1, 2538.4, 2593.7, 2651.5, 2709.2, 2766.9, 2824.7, 2882.4, 2940.1, 2997.9, 3055.6, 3100.0]\n",
    "print(len(c))"
   ]
  },
  {
   "cell_type": "code",
   "execution_count": 22,
   "metadata": {},
   "outputs": [
    {
     "name": "stdout",
     "output_type": "stream",
     "text": [
      "44\n"
     ]
    }
   ],
   "source": [
    "f=[10.0, 898.6, 945.5, 992.5, 1039.4, 1087.6, 1135.9, 1184.1, 1232.3, 1280.5, 1330.2, 1380.0, 1429.7, 1479.4, 1529.1, 1580.2, 1631.3, 1682.3, 1733.4, 1784.5, 1837.1, 1889.7, 1942.3, 1994.9, 2047.5, 2101.4, 2155.4, 2209.3, 2263.2, 2317.2, 2372.5, 2427.8, 2483.1, 2538.4, 2593.7, 2651.5, 2709.2, 2766.9, 2824.7, 2882.4, 2940.1, 2997.9, 3055.6, 3100.0]\n",
    "print(len(f))"
   ]
  },
  {
   "cell_type": "code",
   "execution_count": 10,
   "metadata": {},
   "outputs": [
    {
     "name": "stdout",
     "output_type": "stream",
     "text": [
      "[100000000.0, 100000000.0, 100000000.0, 100000000.0, 100000000.0, 100000000.0, 100000000.0, 100000000.0, 100000000.0, 100000000.0]\n"
     ]
    }
   ],
   "source": [
    "d=[100000000.0]\n",
    "e=d*10\n",
    "print(e)"
   ]
  },
  {
   "cell_type": "code",
   "execution_count": 26,
   "metadata": {},
   "outputs": [
    {
     "name": "stdout",
     "output_type": "stream",
     "text": [
      "[311.969, 312.24399999999997, 312.51899999999995, 312.7939999999999, 313.0689999999999, 313.3439999999999, 313.61899999999986, 313.89399999999983, 314.1689999999998, 314.4439999999998, 314.71899999999977, 314.99399999999974, 315.2689999999997, 315.5439999999997, 315.8189999999997, 316.09399999999965, 316.36899999999963, 316.6439999999996, 316.9189999999996, 317.19399999999956, 317.46899999999954, 317.7439999999995, 318.0189999999995, 318.29399999999947, 318.56899999999945, 318.8439999999994, 319.1189999999994, 319.3939999999994, 319.66899999999936, 319.94399999999933, 320.2189999999993, 320.4939999999993, 320.76899999999927, 321.04399999999924, 321.3189999999992, 321.5939999999992, 321.8689999999992, 322.14399999999915, 322.41899999999913, 322.6939999999991, 322.9689999999991, 323.24399999999906, 323.51899999999904, 323.793999999999]\n"
     ]
    }
   ],
   "source": [
    "bl = 290.969\n",
    "pert=21\n",
    "i = bl+pert\n",
    "h=[]\n",
    "while len(h)<len(f):\n",
    "    h.append(i)\n",
    "    i=i+0.275\n",
    "    \n",
    "print(h)"
   ]
  },
  {
   "cell_type": "code",
   "execution_count": 27,
   "metadata": {},
   "outputs": [
    {
     "data": {
      "text/plain": [
       "44"
      ]
     },
     "execution_count": 27,
     "metadata": {},
     "output_type": "execute_result"
    }
   ],
   "source": [
    "len(h)\n"
   ]
  },
  {
   "cell_type": "code",
   "execution_count": 30,
   "metadata": {},
   "outputs": [
    {
     "name": "stdout",
     "output_type": "stream",
     "text": [
      "42 [0.009461230000000001, 0.009443860000000002, 0.009426480000000001, 0.009408620000000001, 0.009390760000000001, 0.009372910000000002, 0.00935505, 0.009337190000000002, 0.009318780000000002, 0.009300370000000002, 0.009281960000000002, 0.009263550000000002, 0.00924515, 0.009226230000000002, 0.009207320000000001, 0.009188410000000001, 0.009169490000000002, 0.009150580000000002, 0.009131100000000001, 0.00911162, 0.009092150000000002, 0.009072670000000001, 0.009053190000000001, 0.009033220000000002, 0.00901325, 0.008993290000000001, 0.008973320000000002, 0.008953350000000002, 0.00893287, 0.008912390000000001, 0.008891910000000001, 0.008871430000000001, 0.008850940000000002, 0.008829570000000002, 0.00880819, 0.00878681, 0.008765430000000001, 0.008744050000000001, 0.008722670000000002, 0.00870129, 0.00867991, 0.008658540000000001]\n",
      "42 [0.00346123, 0.00344386, 0.00342648, 0.0034086200000000002, 0.0033907600000000005, 0.0033729100000000007, 0.00335505, 0.0033371900000000003, 0.0033187800000000003, 0.0033003700000000004, 0.0032819600000000004, 0.0032635500000000005, 0.0032451500000000005, 0.0032262300000000005, 0.0032073200000000005, 0.0031884100000000005, 0.0031694900000000005, 0.0031505800000000005, 0.0031311000000000004, 0.0031116200000000003, 0.0030921500000000005, 0.0030726700000000004, 0.0030531900000000003, 0.0030332200000000005, 0.0030132500000000003, 0.0029932900000000004, 0.00297332, 0.0029533500000000004, 0.00293287, 0.0029123900000000004, 0.0028919100000000006, 0.0028714300000000003, 0.00285094, 0.0028295700000000004, 0.0028081900000000003, 0.0027868100000000002, 0.0027654300000000006, 0.0027440500000000005, 0.0027226700000000004, 0.0027012900000000003, 0.00267991, 0.0026585400000000005]\n"
     ]
    }
   ],
   "source": [
    "q_base=[0.0041191, 0.00410173, 0.00408435, 0.00406649, 0.00404863, 0.00403078, 0.00401292, 0.00399506, 0.00397665, 0.00395824, 0.00393983, 0.00392142, 0.00390302, 0.0038841, 0.00386519, 0.00384628, 0.00382736, 0.00380845, 0.00378897, 0.00376949, 0.00375002, 0.00373054, 0.00371106, 0.00369109, 0.00367112, 0.00365116, 0.00363119, 0.00361122, 0.00359074, 0.00357026, 0.00354978, 0.0035293, 0.00350881, 0.00348744, 0.00346606, 0.00344468, 0.0034233, 0.00340192, 0.00338054, 0.00335916, 0.00333778, 0.00331641]\n",
    "q_bl=0.01046123\n",
    "low=q_bl-0.001\n",
    "high=q_bl-0.007\n",
    "q_low=[i+(low-q_base[0]) for i in q_base]\n",
    "q_high=[i-(q_base[0]-high) for i in q_base]\n",
    "print(len(q_low), q_low)\n",
    "print(len(q_high), q_high)"
   ]
  },
  {
   "cell_type": "code",
   "execution_count": 29,
   "metadata": {},
   "outputs": [
    {
     "data": {
      "text/plain": [
       "44"
      ]
     },
     "execution_count": 29,
     "metadata": {},
     "output_type": "execute_result"
    }
   ],
   "source": [
    "len([10.0, 898.6, 945.5, 992.5, 1039.4, 1087.6, 1135.9, 1184.1, 1232.3, 1280.5, 1330.2, 1380.0, 1429.7, 1479.4, 1529.1, 1580.2, 1631.3, 1682.3, 1733.4, 1784.5, 1837.1, 1889.7, 1942.3, 1994.9, 2047.5, 2101.4, 2155.4, 2209.3, 2263.2, 2317.2, 2372.5, 2427.8, 2483.1, 2538.4, 2593.7, 2651.5, 2709.2, 2766.9, 2824.7, 2882.4, 2940.1, 2997.9, 3055.6, 3100.0])"
   ]
  },
  {
   "cell_type": "code",
   "execution_count": 1,
   "metadata": {},
   "outputs": [
    {
     "data": {
      "text/plain": [
       "44"
      ]
     },
     "execution_count": 1,
     "metadata": {},
     "output_type": "execute_result"
    }
   ],
   "source": [
    "z=[10.0, 898.6, 945.5, 992.5, 1039.4, 1087.6, 1135.9, 1184.1, 1232.3, 1280.5, 1330.2, 1380.0, 1429.7, 1479.4, 1529.1, 1580.2, 1631.3, 1682.3, 1733.4, 1784.5, 1837.1, 1889.7, 1942.3, 1994.9, 2047.5, 2101.4, 2155.4, 2209.3, 2263.2, 2317.2, 2372.5, 2427.8, 2483.1, 2538.4, 2593.7, 2651.5, 2709.2, 2766.9, 2824.7, 2882.4, 2940.1, 2997.9, 3055.6, 3100.0]\n",
    "len(z)"
   ]
  },
  {
   "cell_type": "code",
   "execution_count": 5,
   "metadata": {},
   "outputs": [
    {
     "data": {
      "text/plain": [
       "44"
      ]
     },
     "execution_count": 5,
     "metadata": {},
     "output_type": "execute_result"
    }
   ],
   "source": [
    "len([6.58331671497766e-09, 6.58331671497766e-09, 6.58331671497766e-09, 6.58331671497766e-09, 6.58331671497766e-09, 6.58331671497766e-09, 6.58331671497766e-09, 6.58331671497766e-09, 6.58331671497766e-09, 6.58331671497766e-09, 6.58331671497766e-09, 6.58331671497766e-09, 6.58331671497766e-09, 6.58331671497766e-09, 6.58331671497766e-09, 6.58331671497766e-09, 6.58331671497766e-09, 6.58331671497766e-09, 6.58331671497766e-09, 6.58331671497766e-09, 6.58331671497766e-09, 6.58331671497766e-09, 6.58331671497766e-09, 6.58331671497766e-09, 6.58331671497766e-09, 6.58331671497766e-09, 6.58331671497766e-09, 6.58331671497766e-09, 6.58331671497766e-09, 6.58331671497766e-09, 6.58331671497766e-09, 6.58331671497766e-09, 6.58331671497766e-09, 6.58331671497766e-09, 6.58331671497766e-09, 6.58331671497766e-09, 6.58331671497766e-09, 6.58331671497766e-09, 6.58331671497766e-09, 6.58331671497766e-09, 6.58331671497766e-09, 6.58331671497766e-09, 6.58331671497766e-09, 6.58331671497766e-09])"
   ]
  },
  {
   "cell_type": "code",
   "execution_count": 6,
   "metadata": {},
   "outputs": [],
   "source": [
    "a=[0.0104613, 0.0104613, 0.0041191, 0.00410173, 0.00408435, 0.00406649, 0.00404863, 0.00403078, 0.00401292, 0.00399506, 0.00397665, 0.00395824, 0.00393983, 0.00392142, 0.00390302, 0.0038841, 0.00386519, 0.00384628, 0.00382736, 0.00380845, 0.00378897, 0.00376949, 0.00375002, 0.00373054, 0.00371106, 0.00369109, 0.00367112, 0.00365116, 0.00363119, 0.00361122, 0.00359074, 0.00357026, 0.00354978, 0.0035293, 0.00350881, 0.00348744, 0.00346606, 0.00344468, 0.0034233, 0.00340192, 0.00338054, 0.00335916, 0.00333778, 0.00331641, 1.8424807262418176e-11, 1.8424807262418176e-11, 2.4566409683224232e-11, 2.4566409683224232e-11, 2.4566409683224232e-11, 2.4566409683224232e-11, 2.4566409683224232e-11, 2.4566409683224232e-11, 2.4566409683224232e-11, 2.4566409683224232e-11, 2.4566409683224232e-11, 2.4566409683224232e-11, 2.4566409683224232e-11, 2.4566409683224232e-11, 2.4566409683224232e-11, 2.4566409683224232e-11, 2.4566409683224232e-11, 2.4566409683224232e-11, 2.4566409683224232e-11, 2.4566409683224232e-11, 2.4566409683224232e-11, 2.4566409683224232e-11, 2.4566409683224232e-11, 2.4566409683224232e-11, 2.4566409683224232e-11, 2.4566409683224232e-11, 2.4566409683224232e-11, 2.4566409683224232e-11, 2.4566409683224232e-11, 2.4566409683224232e-11, 2.4566409683224232e-11, 2.4566409683224232e-11, 2.4566409683224232e-11, 2.4566409683224232e-11, 2.4566409683224232e-11, 2.4566409683224232e-11, 2.4566409683224232e-11, 2.4566409683224232e-11, 2.4566409683224232e-11, 2.4566409683224232e-11, 2.4566409683224232e-11, 2.4566409683224232e-11, 2.4566409683224232e-11, 2.4566409683224232e-11,150000000.0, 150000000.0, 200000000.0, 200000000.0, 200000000.0, 200000000.0, 200000000.0, 200000000.0, 200000000.0, 200000000.0, 200000000.0, 200000000.0, 200000000.0, 200000000.0, 200000000.0, 200000000.0, 200000000.0, 200000000.0, 200000000.0, 200000000.0, 200000000.0, 200000000.0, 200000000.0, 200000000.0, 200000000.0, 200000000.0, 200000000.0, 200000000.0, 200000000.0, 200000000.0, 200000000.0, 200000000.0, 200000000.0, 200000000.0, 200000000.0, 200000000.0, 200000000.0, 200000000.0, 200000000.0, 200000000.0, 200000000.0, 200000000.0, 200000000.0, 200000000.0]\n",
    "b=[0.0104613, 0.0104613, 0.0041191, 0.00410173, 0.00408435, 0.00406649, 0.00404863, 0.00403078, 0.00401292, 0.00399506, 0.00397665, 0.00395824, 0.00393983, 0.00392142, 0.00390302, 0.0038841, 0.00386519, 0.00384628, 0.00382736, 0.00380845, 0.00378897, 0.00376949, 0.00375002, 0.00373054, 0.00371106, 0.00369109, 0.00367112, 0.00365116, 0.00363119, 0.00361122, 0.00359074, 0.00357026, 0.00354978, 0.0035293, 0.00350881, 0.00348744, 0.00346606, 0.00344468, 0.0034233, 0.00340192, 0.00338054, 0.00335916, 0.00333778, 0.00331641, 1.8424807262418176e-11, 1.8424807262418176e-11, 2.4566409683224232e-11, 2.4566409683224232e-11, 2.4566409683224232e-11, 2.4566409683224232e-11, 2.4566409683224232e-11, 2.4566409683224232e-11, 2.4566409683224232e-11, 2.4566409683224232e-11, 2.4566409683224232e-11, 2.4566409683224232e-11, 2.4566409683224232e-11, 2.4566409683224232e-11, 2.4566409683224232e-11, 2.4566409683224232e-11, 2.4566409683224232e-11, 2.4566409683224232e-11, 2.4566409683224232e-11, 2.4566409683224232e-11, 2.4566409683224232e-11, 2.4566409683224232e-11, 2.4566409683224232e-11, 2.4566409683224232e-11, 2.4566409683224232e-11, 2.4566409683224232e-11, 2.4566409683224232e-11, 2.4566409683224232e-11, 2.4566409683224232e-11, 2.4566409683224232e-11, 2.4566409683224232e-11, 2.4566409683224232e-11, 2.4566409683224232e-11, 2.4566409683224232e-11, 2.4566409683224232e-11, 2.4566409683224232e-11, 2.4566409683224232e-11, 2.4566409683224232e-11, 2.4566409683224232e-11, 2.4566409683224232e-11, 2.4566409683224232e-11, 2.4566409683224232e-11, 2.4566409683224232e-11, 2.4566409683224232e-11,150000000.0, 150000000.0, 200000000.0, 200000000.0, 200000000.0, 200000000.0, 200000000.0, 200000000.0, 200000000.0, 200000000.0, 200000000.0, 200000000.0, 200000000.0, 200000000.0, 200000000.0, 200000000.0, 200000000.0, 200000000.0, 200000000.0, 200000000.0, 200000000.0, 200000000.0, 200000000.0, 200000000.0, 200000000.0, 200000000.0, 200000000.0, 200000000.0, 200000000.0, 200000000.0, 200000000.0, 200000000.0, 200000000.0, 200000000.0, 200000000.0, 200000000.0, 200000000.0, 200000000.0, 200000000.0, 200000000.0, 200000000.0, 200000000.0, 200000000.0, 200000000.0]\n",
    "c=[a[i] - b[i] for i in range(len(a))]"
   ]
  },
  {
   "cell_type": "code",
   "execution_count": 7,
   "metadata": {},
   "outputs": [
    {
     "data": {
      "text/plain": [
       "[0.0,\n",
       " 0.0,\n",
       " 0.0,\n",
       " 0.0,\n",
       " 0.0,\n",
       " 0.0,\n",
       " 0.0,\n",
       " 0.0,\n",
       " 0.0,\n",
       " 0.0,\n",
       " 0.0,\n",
       " 0.0,\n",
       " 0.0,\n",
       " 0.0,\n",
       " 0.0,\n",
       " 0.0,\n",
       " 0.0,\n",
       " 0.0,\n",
       " 0.0,\n",
       " 0.0,\n",
       " 0.0,\n",
       " 0.0,\n",
       " 0.0,\n",
       " 0.0,\n",
       " 0.0,\n",
       " 0.0,\n",
       " 0.0,\n",
       " 0.0,\n",
       " 0.0,\n",
       " 0.0,\n",
       " 0.0,\n",
       " 0.0,\n",
       " 0.0,\n",
       " 0.0,\n",
       " 0.0,\n",
       " 0.0,\n",
       " 0.0,\n",
       " 0.0,\n",
       " 0.0,\n",
       " 0.0,\n",
       " 0.0,\n",
       " 0.0,\n",
       " 0.0,\n",
       " 0.0,\n",
       " 0.0,\n",
       " 0.0,\n",
       " 0.0,\n",
       " 0.0,\n",
       " 0.0,\n",
       " 0.0,\n",
       " 0.0,\n",
       " 0.0,\n",
       " 0.0,\n",
       " 0.0,\n",
       " 0.0,\n",
       " 0.0,\n",
       " 0.0,\n",
       " 0.0,\n",
       " 0.0,\n",
       " 0.0,\n",
       " 0.0,\n",
       " 0.0,\n",
       " 0.0,\n",
       " 0.0,\n",
       " 0.0,\n",
       " 0.0,\n",
       " 0.0,\n",
       " 0.0,\n",
       " 0.0,\n",
       " 0.0,\n",
       " 0.0,\n",
       " 0.0,\n",
       " 0.0,\n",
       " 0.0,\n",
       " 0.0,\n",
       " 0.0,\n",
       " 0.0,\n",
       " 0.0,\n",
       " 0.0,\n",
       " 0.0,\n",
       " 0.0,\n",
       " 0.0,\n",
       " 0.0,\n",
       " 0.0,\n",
       " 0.0,\n",
       " 0.0,\n",
       " 0.0,\n",
       " 0.0,\n",
       " 0.0,\n",
       " 0.0,\n",
       " 0.0,\n",
       " 0.0,\n",
       " 0.0,\n",
       " 0.0,\n",
       " 0.0,\n",
       " 0.0,\n",
       " 0.0,\n",
       " 0.0,\n",
       " 0.0,\n",
       " 0.0,\n",
       " 0.0,\n",
       " 0.0,\n",
       " 0.0,\n",
       " 0.0,\n",
       " 0.0,\n",
       " 0.0,\n",
       " 0.0,\n",
       " 0.0,\n",
       " 0.0,\n",
       " 0.0,\n",
       " 0.0,\n",
       " 0.0,\n",
       " 0.0,\n",
       " 0.0,\n",
       " 0.0,\n",
       " 0.0,\n",
       " 0.0,\n",
       " 0.0,\n",
       " 0.0,\n",
       " 0.0,\n",
       " 0.0,\n",
       " 0.0,\n",
       " 0.0,\n",
       " 0.0,\n",
       " 0.0,\n",
       " 0.0,\n",
       " 0.0,\n",
       " 0.0,\n",
       " 0.0,\n",
       " 0.0,\n",
       " 0.0,\n",
       " 0.0]"
      ]
     },
     "execution_count": 7,
     "metadata": {},
     "output_type": "execute_result"
    }
   ],
   "source": [
    "c"
   ]
  },
  {
   "cell_type": "code",
   "execution_count": null,
   "metadata": {},
   "outputs": [],
   "source": []
  }
 ],
 "metadata": {
  "kernelspec": {
   "display_name": "Python 3 + Jaspy",
   "language": "python",
   "name": "jaspy"
  },
  "language_info": {
   "codemirror_mode": {
    "name": "ipython",
    "version": 3
   },
   "file_extension": ".py",
   "mimetype": "text/x-python",
   "name": "python",
   "nbconvert_exporter": "python",
   "pygments_lexer": "ipython3",
   "version": "3.8.12"
  }
 },
 "nbformat": 4,
 "nbformat_minor": 4
}
